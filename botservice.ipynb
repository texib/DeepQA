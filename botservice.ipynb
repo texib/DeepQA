{
 "cells": [
  {
   "cell_type": "code",
   "execution_count": null,
   "metadata": {
    "collapsed": true,
    "deletable": true,
    "editable": true
   },
   "outputs": [],
   "source": [
    "from chatbot import chatbot\n",
    "chatbot = chatbot.Chatbot()"
   ]
  },
  {
   "cell_type": "code",
   "execution_count": null,
   "metadata": {
    "collapsed": false,
    "deletable": true,
    "editable": true
   },
   "outputs": [],
   "source": [
    "chatbot.main(args=\"--modelTag stephon --test daemon\".split(' '))"
   ]
  },
  {
   "cell_type": "code",
   "execution_count": null,
   "metadata": {
    "collapsed": false,
    "deletable": true,
    "editable": true
   },
   "outputs": [],
   "source": [
    "def talk(s=\"你好啊\"):\n",
    "    seqs = chatbot.singlePredict(s)\n",
    "    strlist = chatbot.textData.sequence2str(seqs,clean=True)\n",
    "    return strlist.replace(\" \",'').replace(\"dot\",\" \")"
   ]
  },
  {
   "cell_type": "code",
   "execution_count": null,
   "metadata": {
    "collapsed": false,
    "deletable": true,
    "editable": true
   },
   "outputs": [],
   "source": [
    "talk('你是誰')"
   ]
  },
  {
   "cell_type": "code",
   "execution_count": null,
   "metadata": {
    "collapsed": false,
    "deletable": true,
    "editable": true
   },
   "outputs": [],
   "source": [
    "# from slackbot import bot\n",
    "# import os,sys\n",
    "# bot.settings.API_TOKEN  = os.environ['SLACK_TOKEN']\n",
    "# from slackbot.bot import Bot\n",
    "# from slackbot.bot import respond_to\n",
    "# from slackbot.bot import listen_to\n",
    "# def main():\n",
    "#     bot = Bot()\n",
    "#     bot.run()"
   ]
  },
  {
   "cell_type": "code",
   "execution_count": null,
   "metadata": {
    "collapsed": true,
    "deletable": true,
    "editable": true
   },
   "outputs": [],
   "source": [
    "# @respond_to('(.*)')\n",
    "# def slack_talk(message, something):\n",
    "#     try:\n",
    "#         user = message._client.users[message._get_user_id()][u'name']\n",
    "#         something = something.strip()\n",
    "#         response= talk(something)\n",
    "#         message.reply(response)\n",
    "#     except:\n",
    "#         searchterm = something #match[0]\n",
    "#         message.reply('Oh No!! Not Yet !!:....'+str(sys.exc_info()))\n",
    "# #         log(user,\"cse\",something,\"500\")"
   ]
  },
  {
   "cell_type": "code",
   "execution_count": null,
   "metadata": {
    "collapsed": false,
    "deletable": true,
    "editable": true
   },
   "outputs": [],
   "source": [
    "# main()"
   ]
  },
  {
   "cell_type": "code",
   "execution_count": null,
   "metadata": {
    "collapsed": false,
    "deletable": true,
    "editable": true
   },
   "outputs": [],
   "source": [
    "# -*- coding: utf-8 -*-\n",
    "from flask import Flask\n",
    "from flask import request\n",
    "from flask import make_response\n",
    "app = Flask(__name__)\n",
    "import json"
   ]
  },
  {
   "cell_type": "code",
   "execution_count": null,
   "metadata": {
    "collapsed": false,
    "deletable": true,
    "editable": true
   },
   "outputs": [],
   "source": [
    "@app.route('/webhook', methods=['POST'])\n",
    "def webhook():\n",
    "    req = request.get_json(silent=True, force=True)\n",
    "    try:\n",
    "#         print(req)\n",
    "#         keyword = req['result']['parameters']['keyword']\n",
    "#         location = req['result']['parameters']['location']\n",
    "#         data = custom_search(query=u'%s %s'%(keyword,location),num=5)\n",
    "#         res = makeWebhookResult(location,keyword,data)\n",
    "#         res = json.dumps(res, indent=4)\n",
    "\n",
    "        q = req['result']['resolvedQuery']\n",
    "        print(q)\n",
    "        ans = talk(q)\n",
    "        res =json.dumps({\n",
    "            \"speech\": ans,\n",
    "            \"displayText\": 'Display Text',\n",
    "            \"source\": \"PIXNET-Bot\"\n",
    "        })\n",
    "    except:\n",
    "        res =json.dumps({\n",
    "            \"speech\": u'您所搜尋的內容已被當地政府鎖定,請靜待官方人員前往查詢您的水錶',\n",
    "            \"displayText\": 'Display Text',\n",
    "            \"source\": \"PIXNET-Bot\"\n",
    "        })\n",
    "    r = make_response(res)\n",
    "    r.headers['Content-Type'] = 'application/json'\n",
    "    return r\n",
    "\n",
    "\n",
    "\n",
    "@app.route('/test')\n",
    "def test():\n",
    "    return \"Test\""
   ]
  },
  {
   "cell_type": "code",
   "execution_count": null,
   "metadata": {
    "collapsed": false,
    "deletable": true,
    "editable": true
   },
   "outputs": [],
   "source": [
    "app.run(port=8080, host='0.0.0.0' ,threaded=True)"
   ]
  },
  {
   "cell_type": "code",
   "execution_count": null,
   "metadata": {
    "collapsed": true,
    "deletable": true,
    "editable": true
   },
   "outputs": [],
   "source": []
  }
 ],
 "metadata": {
  "kernelspec": {
   "display_name": "Python 3",
   "language": "python",
   "name": "python3"
  },
  "language_info": {
   "codemirror_mode": {
    "name": "ipython",
    "version": 3
   },
   "file_extension": ".py",
   "mimetype": "text/x-python",
   "name": "python",
   "nbconvert_exporter": "python",
   "pygments_lexer": "ipython3",
   "version": "3.5.2"
  }
 },
 "nbformat": 4,
 "nbformat_minor": 2
}
